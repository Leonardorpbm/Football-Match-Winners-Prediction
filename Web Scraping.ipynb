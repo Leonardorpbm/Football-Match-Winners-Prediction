{
 "cells": [
  {
   "cell_type": "markdown",
   "id": "bfc2c2cf",
   "metadata": {},
   "source": [
    "### Testing"
   ]
  },
  {
   "cell_type": "code",
   "execution_count": 1,
   "id": "f0cbe739",
   "metadata": {},
   "outputs": [],
   "source": [
    "# Import the necessary libraries\n",
    "\n",
    "import requests\n",
    "import pandas as pd\n",
    "from bs4 import BeautifulSoup\n",
    "import pandas as pd"
   ]
  },
  {
   "cell_type": "code",
   "execution_count": null,
   "id": "f7d010c4",
   "metadata": {},
   "outputs": [],
   "source": [
    "# Fetching the URL for Premier League standings\n",
    "standings_url = 'https://fbref.com/en/comps/9/Premier-League-Stats'"
   ]
  },
  {
   "cell_type": "code",
   "execution_count": null,
   "id": "66b814d8",
   "metadata": {},
   "outputs": [],
   "source": [
    "# Sending a request to retrieve data from the specified URL\n",
    "data = requests.get(standings_url)"
   ]
  },
  {
   "cell_type": "code",
   "execution_count": null,
   "id": "bddc6b31",
   "metadata": {},
   "outputs": [],
   "source": [
    "# Creating a BeautifulSoup object to parse the HTML content of the fetched data\n",
    "soup = BeautifulSoup(data.text)"
   ]
  },
  {
   "cell_type": "code",
   "execution_count": null,
   "id": "b5f749ad",
   "metadata": {},
   "outputs": [],
   "source": [
    "# Selecting the first table with the class 'stats_table' from the parsed HTML content\n",
    "standings_table = soup.select('table.stats_table')[0]"
   ]
  },
  {
   "cell_type": "code",
   "execution_count": null,
   "id": "311394a4",
   "metadata": {},
   "outputs": [],
   "source": [
    "# Finding all anchor tags ('a') within the selected standings table\n",
    "links = standings_table.find_all('a')"
   ]
  },
  {
   "cell_type": "code",
   "execution_count": null,
   "id": "f084e1d1",
   "metadata": {},
   "outputs": [],
   "source": [
    "# Extracting the 'href' attribute from each anchor tag in the standings table and storing them in a list\n",
    "links = [l.get('href') for l in links]"
   ]
  },
  {
   "cell_type": "code",
   "execution_count": null,
   "id": "671305e8",
   "metadata": {},
   "outputs": [],
   "source": [
    "# Filtering the list of links to only include those related to team squads ('/squads').\n",
    "links = [l for l in links if '/squads' in l]"
   ]
  },
  {
   "cell_type": "code",
   "execution_count": null,
   "id": "3c24fccb",
   "metadata": {},
   "outputs": [],
   "source": [
    "# Constructing complete URLs for each team's squad page by appending the relative links to the base URL.\n",
    "team_urls = [f\"https://fbref.com{l}\" for l in links]"
   ]
  },
  {
   "cell_type": "code",
   "execution_count": null,
   "id": "ee92bc6c",
   "metadata": {},
   "outputs": [],
   "source": [
    "# Selecting the URL of the first team's squad page from the constructed list.\n",
    "team_url = team_urls[0]"
   ]
  },
  {
   "cell_type": "code",
   "execution_count": null,
   "id": "7ac59e14",
   "metadata": {},
   "outputs": [],
   "source": [
    "# Sending a request to retrieve data from the specified team's squad page URL.\n",
    "data = requests.get(team_url)"
   ]
  },
  {
   "cell_type": "code",
   "execution_count": null,
   "id": "e58ca130",
   "metadata": {},
   "outputs": [],
   "source": [
    "# Parsing HTML tables from the fetched data, specifically targeting tables containing information about scores and fixtures.\n",
    "matches = pd.read_html(data.text, match=\"Scores & Fixtures\")"
   ]
  },
  {
   "cell_type": "code",
   "execution_count": 2,
   "id": "2eb6bf78",
   "metadata": {},
   "outputs": [
    {
     "ename": "NameError",
     "evalue": "name 'matches' is not defined",
     "output_type": "error",
     "traceback": [
      "\u001b[1;31m---------------------------------------------------------------------------\u001b[0m",
      "\u001b[1;31mNameError\u001b[0m                                 Traceback (most recent call last)",
      "Cell \u001b[1;32mIn[2], line 2\u001b[0m\n\u001b[0;32m      1\u001b[0m \u001b[38;5;66;03m# Displaying the first few rows of the extracted table containing scores and fixtures.\u001b[39;00m\n\u001b[1;32m----> 2\u001b[0m matches[\u001b[38;5;241m0\u001b[39m]\u001b[38;5;241m.\u001b[39mhead()\n",
      "\u001b[1;31mNameError\u001b[0m: name 'matches' is not defined"
     ]
    }
   ],
   "source": [
    "# Displaying the first few rows of the extracted table containing scores and fixtures.\n",
    "matches[0].head()"
   ]
  },
  {
   "cell_type": "code",
   "execution_count": null,
   "id": "0c8b2ff6",
   "metadata": {},
   "outputs": [],
   "source": [
    "soup = BeautifulSoup(data.text)"
   ]
  },
  {
   "cell_type": "code",
   "execution_count": null,
   "id": "4569ff2c",
   "metadata": {},
   "outputs": [],
   "source": [
    "links = soup.find_all('a')"
   ]
  },
  {
   "cell_type": "code",
   "execution_count": null,
   "id": "3eb75594",
   "metadata": {},
   "outputs": [],
   "source": [
    "links = [l.get('href') for l in links]"
   ]
  },
  {
   "cell_type": "code",
   "execution_count": null,
   "id": "1575a098",
   "metadata": {},
   "outputs": [],
   "source": [
    "# Filtering the list of links to include only those with a valid value and containing the specified subpath ('all_comps/shooting/').\n",
    "links = [l for l in links if l and 'all_comps/shooting/' in l]"
   ]
  },
  {
   "cell_type": "code",
   "execution_count": null,
   "id": "e789f6a3",
   "metadata": {},
   "outputs": [],
   "source": [
    "links"
   ]
  },
  {
   "cell_type": "code",
   "execution_count": null,
   "id": "703be3a5",
   "metadata": {},
   "outputs": [],
   "source": [
    "data = requests.get(f\"https://fbref.com{links[0]}\")"
   ]
  },
  {
   "cell_type": "code",
   "execution_count": null,
   "id": "e3cc4b7d",
   "metadata": {},
   "outputs": [],
   "source": [
    "# Parsing HTML tables from the fetched data, specifically targeting the table related to shooting statistics.\n",
    "shooting = pd.read_html(data.text, match='Shooting')[0]"
   ]
  },
  {
   "cell_type": "code",
   "execution_count": null,
   "id": "e33e07a3",
   "metadata": {
    "scrolled": true
   },
   "outputs": [],
   "source": [
    "shooting.head(5)"
   ]
  },
  {
   "cell_type": "code",
   "execution_count": null,
   "id": "9b0a00f1",
   "metadata": {},
   "outputs": [],
   "source": [
    "# Dropping one level from the multi-level column index in the shooting statistics DataFrame.\n",
    "shooting.columns = shooting.columns.droplevel()"
   ]
  },
  {
   "cell_type": "code",
   "execution_count": null,
   "id": "e73998df",
   "metadata": {},
   "outputs": [],
   "source": [
    "shooting.head(5)"
   ]
  },
  {
   "cell_type": "code",
   "execution_count": null,
   "id": "a4334014",
   "metadata": {},
   "outputs": [],
   "source": [
    "# Merging the matches and shooting statistics DataFrames on the 'Date' column to consolidate relevant information for further analysis.\n",
    "team_data = matches[0].merge(shooting[[\"Date\", \"Sh\", \"SoT\", \"Dist\", \"FK\", \"PK\", \"PKatt\"]], on=\"Date\")"
   ]
  },
  {
   "cell_type": "markdown",
   "id": "605b019f",
   "metadata": {},
   "source": [
    "### Creating CSV File from Premier League Stats website from 2021 to 2023 season"
   ]
  },
  {
   "cell_type": "code",
   "execution_count": 3,
   "id": "ecca9f86",
   "metadata": {},
   "outputs": [],
   "source": [
    "# Creating a list of years (in reverse order) from 2024 to 2021.\n",
    "years = list(range(2024, 2021, -1))"
   ]
  },
  {
   "cell_type": "code",
   "execution_count": 4,
   "id": "156a2c65",
   "metadata": {},
   "outputs": [],
   "source": [
    "# Initializing an empty list to store match data.\n",
    "all_matches = []"
   ]
  },
  {
   "cell_type": "code",
   "execution_count": 5,
   "id": "d5159305",
   "metadata": {},
   "outputs": [],
   "source": [
    "# Fetching the URL for Premier League standings.\n",
    "standings_url = \"https://fbref.com/en/comps/9/Premier-League-Stats\""
   ]
  },
  {
   "cell_type": "code",
   "execution_count": 6,
   "id": "3a609a3f",
   "metadata": {},
   "outputs": [],
   "source": [
    "import time\n",
    "for year in years:\n",
    "    # Fetching standings data for the current year\n",
    "    data = requests.get(standings_url)\n",
    "    soup = BeautifulSoup(data.text)\n",
    "    standings_table = soup.select('table.stats_table')[0]\n",
    "    \n",
    "    # Extracting team URLs from standings data\n",
    "    links = [l.get(\"href\") for l in standings_table.find_all('a')]\n",
    "    links = [l for l in links if '/squads/' in l]\n",
    "    team_urls = [f\"https://fbref.com{l}\" for l in links]\n",
    "    \n",
    "    # Updating standings URL for the previous season\n",
    "    previous_season = soup.select(\"a.prev\")[0].get(\"href\")\n",
    "    standings_url = f\"https://fbref.com{previous_season}\"\n",
    "    \n",
    "    # Looping through each team's URL\n",
    "    for team_url in team_urls:\n",
    "        # Extracting team name from URL\n",
    "        team_name = team_url.split(\"/\")[-1].replace(\"-Stats\", \"\").replace(\"-\", \" \")\n",
    "        \n",
    "        # Fetching data from the team's squad page\n",
    "        data = requests.get(team_url)\n",
    "        matches = pd.read_html(data.text, match=\"Scores & Fixtures\")[0]\n",
    "        \n",
    "        # Extracting shooting statistics URL from the team's squad page\n",
    "        soup = BeautifulSoup(data.text)\n",
    "        links = [l.get(\"href\") for l in soup.find_all('a')]\n",
    "        links = [l for l in links if l and 'all_comps/shooting/' in l]\n",
    "        \n",
    "        # Fetching shooting statistics data\n",
    "        data = requests.get(f\"https://fbref.com{links[0]}\")\n",
    "        shooting = pd.read_html(data.text, match=\"Shooting\")[0]\n",
    "        shooting.columns = shooting.columns.droplevel()\n",
    "        \n",
    "        try:\n",
    "            # Merging match and shooting data on the 'Date' column\n",
    "            team_data = matches.merge(shooting[[\"Date\", \"Sh\", \"SoT\", \"Dist\", \"FK\", \"PK\", \"PKatt\"]], on=\"Date\")\n",
    "        except ValueError:\n",
    "            continue\n",
    "            \n",
    "        # Filtering data for Premier League matches\n",
    "        team_data = team_data[team_data[\"Comp\"] == \"Premier League\"]\n",
    "        \n",
    "        # Adding 'Season' and 'Team' columns\n",
    "        team_data[\"Season\"] = year\n",
    "        team_data[\"Team\"] = team_name\n",
    "        \n",
    "        # Appending team data to the list\n",
    "        all_matches.append(team_data)\n",
    "        \n",
    "        # Adding a delay to avoid overloading the server\n",
    "        time.sleep(5)"
   ]
  },
  {
   "cell_type": "code",
   "execution_count": 7,
   "id": "106125f6",
   "metadata": {},
   "outputs": [],
   "source": [
    "# Concatenating all team match data into a single DataFrame (match_df)\n",
    "match_df = pd.concat(all_matches)"
   ]
  },
  {
   "cell_type": "code",
   "execution_count": 8,
   "id": "a31e0bc6",
   "metadata": {},
   "outputs": [],
   "source": [
    "# Converting column names to lowercase.\n",
    "match_df.columns = [c.lower() for c in match_df.columns]"
   ]
  },
  {
   "cell_type": "code",
   "execution_count": 9,
   "id": "f1c4e921",
   "metadata": {},
   "outputs": [],
   "source": [
    "# Saving the match_df DataFrame to a CSV file.\n",
    "match_df.to_csv(\"matches.csv\")"
   ]
  },
  {
   "cell_type": "code",
   "execution_count": null,
   "id": "083d3515",
   "metadata": {},
   "outputs": [],
   "source": []
  }
 ],
 "metadata": {
  "kernelspec": {
   "display_name": "Python 3 (ipykernel)",
   "language": "python",
   "name": "python3"
  },
  "language_info": {
   "codemirror_mode": {
    "name": "ipython",
    "version": 3
   },
   "file_extension": ".py",
   "mimetype": "text/x-python",
   "name": "python",
   "nbconvert_exporter": "python",
   "pygments_lexer": "ipython3",
   "version": "3.11.5"
  }
 },
 "nbformat": 4,
 "nbformat_minor": 5
}
